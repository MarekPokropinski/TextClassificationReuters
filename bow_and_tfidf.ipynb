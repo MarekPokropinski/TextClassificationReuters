{
 "cells": [
  {
   "cell_type": "code",
   "execution_count": 1,
   "metadata": {},
   "outputs": [],
   "source": [
    "import tensorflow as tf\n",
    "import tensorflow_addons as tfa\n",
    "import numpy as np\n",
    "from text_embeddings.bag_of_words import BagOfWords\n",
    "from text_embeddings.tfidf import TFIDF, build_idf\n",
    "\n",
    "from models.logistic_regression import LogisticRegressionModel\n",
    "from data import *"
   ]
  },
  {
   "cell_type": "markdown",
   "metadata": {},
   "source": [
    "## Create buffers for text embeddings"
   ]
  },
  {
   "cell_type": "code",
   "execution_count": 2,
   "metadata": {},
   "outputs": [],
   "source": [
    "bow_embeddings_train = np.empty((x_train.shape[0], vocab_size))\n",
    "bow_embeddings_test = np.empty((x_test.shape[0], vocab_size))\n",
    "\n",
    "tfidf_embeddings_train = np.empty((x_train.shape[0], vocab_size))\n",
    "tfidf_embeddings_test = np.empty((x_test.shape[0], vocab_size))"
   ]
  },
  {
   "cell_type": "markdown",
   "metadata": {},
   "source": [
    "## Create bag of words embeddings"
   ]
  },
  {
   "cell_type": "code",
   "execution_count": 3,
   "metadata": {},
   "outputs": [],
   "source": [
    "bag_of_words = BagOfWords(vocab_size)\n",
    "\n",
    "for i in range(x_train.shape[0]):\n",
    "    bow_embeddings_train[i] = bag_of_words(x_train[i])\n",
    "for i in range(x_test.shape[0]):\n",
    "    bow_embeddings_test[i] = bag_of_words(x_test[i])"
   ]
  },
  {
   "cell_type": "markdown",
   "metadata": {},
   "source": [
    "## Create TF-IDF embeddings"
   ]
  },
  {
   "cell_type": "code",
   "execution_count": 4,
   "metadata": {},
   "outputs": [],
   "source": [
    "idf = build_idf(x_train, vocab_size)\n",
    "\n",
    "tf_idf = TFIDF(vocab_size, idf)\n",
    "\n",
    "for i in range(x_train.shape[0]):\n",
    "    tfidf_embeddings_train[i] = tf_idf(x_train[i])\n",
    "for i in range(x_test.shape[0]):\n",
    "    tfidf_embeddings_test[i] = tf_idf(x_test[i])"
   ]
  },
  {
   "cell_type": "markdown",
   "metadata": {},
   "source": [
    "## Use logistic regression model for classification"
   ]
  },
  {
   "cell_type": "code",
   "execution_count": 5,
   "metadata": {},
   "outputs": [],
   "source": [
    "bow_model = LogisticRegressionModel(num_classes=46)\n",
    "tfidf_model = LogisticRegressionModel(num_classes=46)\n",
    "bow_model.compile(loss='sparse_categorical_crossentropy', optimizer=tf.keras.optimizers.Adam(learning_rate=0.001), metrics=['accuracy'])\n",
    "tfidf_model.compile(loss='sparse_categorical_crossentropy', optimizer=tf.keras.optimizers.Adam(learning_rate=0.005), metrics=['accuracy'])"
   ]
  },
  {
   "cell_type": "markdown",
   "metadata": {},
   "source": [
    "## Fit the models"
   ]
  },
  {
   "cell_type": "code",
   "execution_count": 6,
   "metadata": {},
   "outputs": [
    {
     "data": {
      "text/plain": [
       "<keras.callbacks.History at 0x29889238f10>"
      ]
     },
     "execution_count": 6,
     "metadata": {},
     "output_type": "execute_result"
    }
   ],
   "source": [
    "bow_model.fit(bow_embeddings_train, y_train, validation_data=(bow_embeddings_test, y_test), epochs=20, verbose=0)"
   ]
  },
  {
   "cell_type": "code",
   "execution_count": 7,
   "metadata": {},
   "outputs": [
    {
     "data": {
      "text/plain": [
       "<keras.callbacks.History at 0x298870f1550>"
      ]
     },
     "execution_count": 7,
     "metadata": {},
     "output_type": "execute_result"
    }
   ],
   "source": [
    "tfidf_model.fit(tfidf_embeddings_train, y_train, validation_data=(tfidf_embeddings_test, y_test), epochs=20, verbose=0)"
   ]
  },
  {
   "cell_type": "code",
   "execution_count": 8,
   "metadata": {},
   "outputs": [
    {
     "name": "stdout",
     "output_type": "stream",
     "text": [
      "accuracy:\t79.03%\n",
      "top_3_accuracy:\t90.74%\n",
      "top_5_accuracy:\t93.54%\n"
     ]
    }
   ],
   "source": [
    "predictions = bow_model.predict(bow_embeddings_test)\n",
    "f1_metric = tfa.metrics.F1Score(num_classes=46, average='macro')\n",
    "f1_metric.update_state(tf.one_hot(y_test, depth=46), predictions)\n",
    "\n",
    "bow_logistic_metrics = {\n",
    "    'accuracy': tf.keras.metrics.sparse_categorical_accuracy(y_test, predictions),\n",
    "    'top_3_accuracy' : tf.keras.metrics.sparse_top_k_categorical_accuracy(y_test, predictions, k=3),\n",
    "    'top_5_accuracy' : tf.keras.metrics.sparse_top_k_categorical_accuracy(y_test, predictions, k=5)\n",
    "}\n",
    "bow_logistic_metrics = {k:tf.reduce_mean(v).numpy() for k,v in bow_logistic_metrics.items()}\n",
    "\n",
    "print('\\n'.join([f'{k}:\\t{v*100:.2f}%' for k,v in bow_logistic_metrics.items()]))"
   ]
  },
  {
   "cell_type": "code",
   "execution_count": 9,
   "metadata": {},
   "outputs": [
    {
     "name": "stdout",
     "output_type": "stream",
     "text": [
      "accuracy:\t80.10%\n",
      "top_3_accuracy:\t91.23%\n",
      "top_5_accuracy:\t93.41%\n"
     ]
    }
   ],
   "source": [
    "predictions = tfidf_model.predict(tfidf_embeddings_test)\n",
    "f1_metric = tfa.metrics.F1Score(num_classes=46, average='macro')\n",
    "f1_metric.update_state(tf.one_hot(y_test, depth=46), predictions)\n",
    "\n",
    "tfidf_logistic_metrics = {\n",
    "    'accuracy': tf.keras.metrics.sparse_categorical_accuracy(y_test, predictions),\n",
    "    'top_3_accuracy' : tf.keras.metrics.sparse_top_k_categorical_accuracy(y_test, predictions, k=3),\n",
    "    'top_5_accuracy' : tf.keras.metrics.sparse_top_k_categorical_accuracy(y_test, predictions, k=5)\n",
    "}\n",
    "tfidf_logistic_metrics = {k:tf.reduce_mean(v).numpy() for k,v in tfidf_logistic_metrics.items()}\n",
    "\n",
    "print('\\n'.join([f'{k}:\\t{v*100:.2f}%' for k,v in tfidf_logistic_metrics.items()]))"
   ]
  },
  {
   "cell_type": "markdown",
   "metadata": {},
   "source": [
    "# Use feature selection to select most important tokens"
   ]
  },
  {
   "cell_type": "code",
   "execution_count": 18,
   "metadata": {},
   "outputs": [],
   "source": [
    "from sklearn.feature_selection import SelectKBest, chi2"
   ]
  },
  {
   "cell_type": "code",
   "execution_count": 43,
   "metadata": {},
   "outputs": [],
   "source": [
    "select_k_best_bow = SelectKBest(chi2, k=5000).fit(bow_embeddings_train, y_train)\n",
    "select_k_best_tfidf = SelectKBest(chi2, k=5000).fit(tfidf_embeddings_train, y_train)\n",
    "\n",
    "bow_embeddings_train_best = select_k_best_bow.transform(bow_embeddings_train)\n",
    "bow_embeddings_test_best = select_k_best_bow.transform(bow_embeddings_test)\n",
    "\n",
    "tfidf_embeddings_train_best = select_k_best_tfidf.transform(tfidf_embeddings_train)\n",
    "tfidf_embeddings_test_best = select_k_best_tfidf.transform(tfidf_embeddings_test)"
   ]
  },
  {
   "cell_type": "code",
   "execution_count": 48,
   "metadata": {},
   "outputs": [],
   "source": [
    "bow_model_kbest = LogisticRegressionModel(num_classes=46)\n",
    "tfidf_model_kbest = LogisticRegressionModel(num_classes=46)\n",
    "bow_model_kbest.compile(loss='sparse_categorical_crossentropy', optimizer=tf.keras.optimizers.Adam(learning_rate=0.002), metrics=['accuracy'])\n",
    "tfidf_model_kbest.compile(loss='sparse_categorical_crossentropy', optimizer=tf.keras.optimizers.Adam(learning_rate=0.01), metrics=['accuracy'])"
   ]
  },
  {
   "cell_type": "code",
   "execution_count": 49,
   "metadata": {},
   "outputs": [],
   "source": [
    "bow_model_kbest.fit(bow_embeddings_train_best, y_train, validation_data=(bow_embeddings_test_best, y_test), epochs=20, verbose=0);"
   ]
  },
  {
   "cell_type": "code",
   "execution_count": 50,
   "metadata": {},
   "outputs": [],
   "source": [
    "tfidf_model_kbest.fit(tfidf_embeddings_train_best, y_train, validation_data=(tfidf_embeddings_test_best, y_test), epochs=20, verbose=0);"
   ]
  },
  {
   "cell_type": "code",
   "execution_count": 51,
   "metadata": {},
   "outputs": [
    {
     "name": "stdout",
     "output_type": "stream",
     "text": [
      "accuracy:\t78.45%\n",
      "top_3_accuracy:\t90.34%\n",
      "top_5_accuracy:\t93.14%\n"
     ]
    }
   ],
   "source": [
    "predictions = bow_model_kbest.predict(bow_embeddings_test_best)\n",
    "f1_metric = tfa.metrics.F1Score(num_classes=46, average='macro')\n",
    "f1_metric.update_state(tf.one_hot(y_test, depth=46), predictions)\n",
    "\n",
    "bow_logistic_metrics = {\n",
    "    'accuracy': tf.keras.metrics.sparse_categorical_accuracy(y_test, predictions),\n",
    "    'top_3_accuracy' : tf.keras.metrics.sparse_top_k_categorical_accuracy(y_test, predictions, k=3),\n",
    "    'top_5_accuracy' : tf.keras.metrics.sparse_top_k_categorical_accuracy(y_test, predictions, k=5)\n",
    "}\n",
    "bow_logistic_metrics = {k:tf.reduce_mean(v).numpy() for k,v in bow_logistic_metrics.items()}\n",
    "\n",
    "print('\\n'.join([f'{k}:\\t{v*100:.2f}%' for k,v in bow_logistic_metrics.items()]))"
   ]
  },
  {
   "cell_type": "code",
   "execution_count": 52,
   "metadata": {},
   "outputs": [
    {
     "name": "stdout",
     "output_type": "stream",
     "text": [
      "accuracy:\t80.99%\n",
      "top_3_accuracy:\t91.63%\n",
      "top_5_accuracy:\t93.90%\n"
     ]
    }
   ],
   "source": [
    "predictions = tfidf_model_kbest.predict(tfidf_embeddings_test_best)\n",
    "f1_metric = tfa.metrics.F1Score(num_classes=46, average='macro')\n",
    "f1_metric.update_state(tf.one_hot(y_test, depth=46), predictions)\n",
    "\n",
    "tfidf_logistic_metrics = {\n",
    "    'accuracy': tf.keras.metrics.sparse_categorical_accuracy(y_test, predictions),\n",
    "    'top_3_accuracy' : tf.keras.metrics.sparse_top_k_categorical_accuracy(y_test, predictions, k=3),\n",
    "    'top_5_accuracy' : tf.keras.metrics.sparse_top_k_categorical_accuracy(y_test, predictions, k=5)\n",
    "}\n",
    "tfidf_logistic_metrics = {k:tf.reduce_mean(v).numpy() for k,v in tfidf_logistic_metrics.items()}\n",
    "\n",
    "print('\\n'.join([f'{k}:\\t{v*100:.2f}%' for k,v in tfidf_logistic_metrics.items()]))"
   ]
  },
  {
   "cell_type": "code",
   "execution_count": null,
   "metadata": {},
   "outputs": [],
   "source": []
  }
 ],
 "metadata": {
  "interpreter": {
   "hash": "b0a7da3b60a74b993a2ea749ace58a4c259048391c0a11857c1f29925f717ce4"
  },
  "kernelspec": {
   "display_name": "Python 3.8.2 64-bit (system)",
   "language": "python",
   "name": "python3"
  },
  "language_info": {
   "codemirror_mode": {
    "name": "ipython",
    "version": 3
   },
   "file_extension": ".py",
   "mimetype": "text/x-python",
   "name": "python",
   "nbconvert_exporter": "python",
   "pygments_lexer": "ipython3",
   "version": "3.8.2"
  },
  "orig_nbformat": 4
 },
 "nbformat": 4,
 "nbformat_minor": 2
}
